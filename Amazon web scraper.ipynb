{
 "cells": [
  {
   "cell_type": "code",
   "execution_count": 2,
   "id": "2adf1b11-baad-4e69-871e-036e16f2f279",
   "metadata": {},
   "outputs": [],
   "source": [
    "# import libraries \n",
    "\n",
    "from bs4 import BeautifulSoup #extract data from HTML and XML files\n",
    "import requests  \n",
    "import time\n",
    "import datetime\n",
    "\n",
    "import smtplib"
   ]
  },
  {
   "cell_type": "code",
   "execution_count": 3,
   "id": "60e640ce-de69-4fe9-9b51-4a557e81ef51",
   "metadata": {},
   "outputs": [
    {
     "name": "stdout",
     "output_type": "stream",
     "text": [
      "\n",
      "             Programmer Funny Shot Glass 1.5oz - no idea why - Coding Programming Computer Science Nerd Tech Guy Software Developer Engineer\n",
      "            \n",
      "\n",
      "            Brand: Bubble Hugs\n",
      "           \n"
     ]
    }
   ],
   "source": [
    "#connect to web site \n",
    "\n",
    "URL = 'https://www.amazon.com/Bubble-Hugs-Programmer-Funny-Glass/dp/B0BHCZKRKS/ref=sr_1_2?crid=36KSIYRPHQNY3&dib=eyJ2IjoiMSJ9.5qj3jc8Lf-gyZc2SeiuvwCJor_og61cebuirNJumIthcxmAtVd_Ne1Oasvh7F8IOYL8Iy6XpIPD6oZ5Lp3PzMJpk2x1istbOeRHT3RJPvG56VSpO8Im9kACTSWT4GBVAA3aLxW8pgdodP8dJEDTIQtNwmPfOxd9Cv_o8g97P--LC1aQhX89IqM2KJElkdVnwjGA5jp7ltjvdcLtHsu3dLnmdtaCEgjtTSLpMHzZN9zNPXy0p3uV64LAg0wXEAaekO0yOmUloJVnM8_9kKCUewg.tMbu8BjcTY-QdOa1srnL7S5PirncGz_d3pPbNxur3Mc&dib_tag=se&keywords=t+shirt+%2B+data%2Bsql&qid=1711851286&sprefix=t+shirt+%2B+data%2Bsql%2Caps%2C329&sr=8-2'\n",
    "\n",
    "headers = {\"User-Agent\": \"Mozilla/5.0 (Windows NT 10.0; Win64; x64) AppleWebKit/537.36 (KHTML, like Gecko) Chrome/78.0.3904.108 Safari/537.36\", \"Accept-Encoding\":\"gzip, deflate\", \"Accept\":\"text/html,application/xhtml+xml,application/xml;q=0.9,*/*;q=0.8\", \"DNT\":\"1\",\"Connection\":\"close\", \"Upgrade-Insecure-Requests\":\"1\"}\n",
    "\n",
    "page = requests.get(URL , headers=headers) \n",
    "\n",
    "soup1 =  BeautifulSoup(page.content ,\"html.parser\")\n",
    "\n",
    "soup2 = BeautifulSoup(soup1.prettify() ,\"html.parser\")\n",
    "\n",
    "title = soup2.find(id ='productTitle').get_text()\n",
    "\n",
    "price = soup2.find(id = 'bylineInfo').get_text()\n",
    "\n",
    "print(title)\n",
    "print(price)\n",
    "\n",
    "\n"
   ]
  },
  {
   "cell_type": "code",
   "execution_count": 4,
   "id": "5740f496-7102-4387-8bbe-a228e420abf1",
   "metadata": {},
   "outputs": [
    {
     "name": "stdout",
     "output_type": "stream",
     "text": [
      "Programmer Funny Shot Glass 1.5oz - no idea why - Coding Programming Computer Science Nerd Tech Guy Software Developer Engineer\n",
      "Brand: Bubble Hugs\n"
     ]
    }
   ],
   "source": [
    "price = price.strip()\n",
    "title = title.strip()\n",
    "\n",
    "print(title)\n",
    "print(price)"
   ]
  },
  {
   "cell_type": "code",
   "execution_count": 8,
   "id": "d6faf5e2-b286-463d-bd49-9d78f33cc373",
   "metadata": {},
   "outputs": [],
   "source": [
    "import csv\n",
    "\n",
    "header = ['Title' , 'price', 'Date']\n",
    "data =[title , price, today]\n",
    "\n",
    "#with open ('amazonwebscrapperDataset.csv' , 'w' , newline='' , encoding='UTF8') as f:\n",
    "   #writer = csv.writer(f)\n",
    "   #writer.writerow(header)\n",
    "   #writer.writerow(data)\n"
   ]
  },
  {
   "cell_type": "code",
   "execution_count": 16,
   "id": "6ea08048-feab-4862-ba75-463cdc8e8be7",
   "metadata": {},
   "outputs": [
    {
     "name": "stdout",
     "output_type": "stream",
     "text": [
      "                                               Title               price  \\\n",
      "0  Programmer Funny Shot Glass 1.5oz - no idea wh...  Brand: Bubble Hugs   \n",
      "1                                              Title               price   \n",
      "2  Programmer Funny Shot Glass 1.5oz - no idea wh...  Brand: Bubble Hugs   \n",
      "3  Programmer Funny Shot Glass 1.5oz - no idea wh...  Brand: Bubble Hugs   \n",
      "4  Programmer Funny Shot Glass 1.5oz - no idea wh...  Brand: Bubble Hugs   \n",
      "\n",
      "         Date  \n",
      "0  2024-04-03  \n",
      "1        Date  \n",
      "2  2024-04-03  \n",
      "3  2024-04-03  \n",
      "4  2024-04-03  \n"
     ]
    }
   ],
   "source": [
    "import pandas as pd \n",
    "\n",
    "df = pd.read_csv(r'C:\\Users\\ayoub\\Documents\\amazonwebscrapperDataset.csv')\n",
    "\n",
    "print(df)"
   ]
  },
  {
   "cell_type": "code",
   "execution_count": 15,
   "id": "8d027f57-cd7d-4342-9273-287c7cd2aedb",
   "metadata": {},
   "outputs": [],
   "source": [
    "#appending data to csv \n",
    "\n",
    "with open ('amazonwebscrapperDataset.csv' , 'a+' , newline='' , encoding='UTF8') as f:\n",
    "   writer = csv.writer(f)\n",
    "   writer.writerow(data)"
   ]
  },
  {
   "cell_type": "code",
   "execution_count": 21,
   "id": "36a928e5-efc8-4433-bcf7-d1ac21d5f2c4",
   "metadata": {},
   "outputs": [
    {
     "name": "stdout",
     "output_type": "stream",
     "text": [
      "2024-04-03\n"
     ]
    }
   ],
   "source": [
    "import datetime\n",
    "\n",
    "today = datetime.date.today()\n",
    "print(today) \n",
    "   \n",
    "\n"
   ]
  },
  {
   "cell_type": "code",
   "execution_count": null,
   "id": "6233d43b-dab4-4972-8eb3-3acce4828c86",
   "metadata": {},
   "outputs": [],
   "source": [
    "  def check_price():\n",
    "  \n",
    "     URL = 'https://www.amazon.com/Bubble-Hugs-Programmer-Funny-Glass/dp/B0BHCZKRKS/ref=sr_1_2?crid=36KSIYRPHQNY3&dib=eyJ2IjoiMSJ9.5qj3jc8Lf-gyZc2SeiuvwCJor_og61cebuirNJumIthcxmAtVd_Ne1Oasvh7F8IOYL8Iy6XpIPD6oZ5Lp3PzMJpk2x1istbOeRHT3RJPvG56VSpO8Im9kACTSWT4GBVAA3aLxW8pgdodP8dJEDTIQtNwmPfOxd9Cv_o8g97P--LC1aQhX89IqM2KJElkdVnwjGA5jp7ltjvdcLtHsu3dLnmdtaCEgjtTSLpMHzZN9zNPXy0p3uV64LAg0wXEAaekO0yOmUloJVnM8_9kKCUewg.tMbu8BjcTY-QdOa1srnL7S5PirncGz_d3pPbNxur3Mc&dib_tag=se&keywords=t+shirt+%2B+data%2Bsql&qid=1711851286&sprefix=t+shirt+%2B+data%2Bsql%2Caps%2C329&sr=8-2'\n",
    "\n",
    "     headers = {\"User-Agent\": \"Mozilla/5.0 (Windows NT 10.0; Win64; x64) AppleWebKit/537.36 (KHTML, like Gecko) Chrome/78.0.3904.108 Safari/537.36\", \"Accept-Encoding\":\"gzip, deflate\", \"Accept\":\"text/html,application/xhtml+xml,application/xml;q=0.9,*/*;q=0.8\", \"DNT\":\"1\",\"Connection\":\"close\", \"Upgrade-Insecure-Requests\":\"1\"}\n",
    "\n",
    "     page = requests.get(URL , headers=headers) \n",
    "\n",
    "     soup1 =  BeautifulSoup(page.content ,\"html.parser\")\n",
    "\n",
    "     soup2 = BeautifulSoup(soup1.prettify() ,\"html.parser\")\n",
    "\n",
    "     title = soup2.find(id ='productTitle').get_text()\n",
    "\n",
    "     price = soup2.find(id = 'bylineInfo').get_text()\n",
    "\n",
    "     price = price.strip()\n",
    "       \n",
    "     title = title.strip()\n",
    "\n",
    "     import datetime\n",
    "\n",
    "     today = datetime.date.today()\n",
    "\n",
    "     import csv\n",
    "\n",
    "     header = ['Title' , 'price', 'Date']\n",
    "     data =[title , price, today]\n",
    "\n",
    "     with open('AmazonWebScraperDataset.csv', 'a+', newline='', encoding='UTF8') as f:\n",
    "        writer = csv.writer(f)\n",
    "        writer.writerow(data)\n",
    "     \n"
   ]
  },
  {
   "cell_type": "code",
   "execution_count": null,
   "id": "469a85ba-d2ac-41b3-bb9b-f98b75850ef2",
   "metadata": {},
   "outputs": [],
   "source": [
    "while(True):\n",
    "    check_price()\n",
    "    time.sleep(86400)"
   ]
  },
  {
   "cell_type": "code",
   "execution_count": null,
   "id": "76ef0a62-beae-4caf-b623-f5f655aa3e24",
   "metadata": {},
   "outputs": [],
   "source": [
    "import pandas as pd \n",
    "\n",
    "df = pd.read_csv(r'C:\\Users\\ayoub\\Documents\\amazonwebscrapperDataset.csv')\n",
    "\n",
    "print(df)"
   ]
  },
  {
   "cell_type": "code",
   "execution_count": null,
   "id": "79c44e57-55dc-42bc-b0f5-ffcaed968e45",
   "metadata": {},
   "outputs": [],
   "source": []
  },
  {
   "cell_type": "code",
   "execution_count": null,
   "id": "ee271659-3720-4686-8ba3-55cce8641d12",
   "metadata": {},
   "outputs": [],
   "source": [
    "def send_mail():\n",
    "    server = smtplib.SMTP_SSL('smtp.gmail.com',465)\n",
    "    server.ehlo()\n",
    "    #server.starttls()\n",
    "    server.ehlo()\n",
    "    server.login('ayoub.heragua71@gmail.com','xxxxxxxxxxxxxx')\n",
    "    \n",
    "    subject = \"The Shirt you want is below $15! Now is your chance to buy!\"\n",
    "    body = \"ayoub, This is the moment we have been waiting for. Now is your chance to pick up the shirt of your dreams. Don't mess it up! Link here: https://www.amazon.com/Funny-Data-Systems-Business-Analyst/dp/B07FNW9FGJ/ref=sr_1_3?dchild=1&keywords=data+analyst+tshirt&qid=1626655184&sr=8-3\"\n",
    "   \n",
    "    msg = f\"Subject: {subject}\\n\\n{body}\"\n",
    "    \n",
    "    server.sendmail(\n",
    "        'ayoub.heragua71@gmail.com',\n",
    "        msg\n",
    "     \n",
    "    )"
   ]
  }
 ],
 "metadata": {
  "kernelspec": {
   "display_name": "Python 3 (ipykernel)",
   "language": "python",
   "name": "python3"
  },
  "language_info": {
   "codemirror_mode": {
    "name": "ipython",
    "version": 3
   },
   "file_extension": ".py",
   "mimetype": "text/x-python",
   "name": "python",
   "nbconvert_exporter": "python",
   "pygments_lexer": "ipython3",
   "version": "3.11.7"
  }
 },
 "nbformat": 4,
 "nbformat_minor": 5
}
